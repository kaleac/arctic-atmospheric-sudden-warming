{
 "cells": [
  {
   "cell_type": "markdown",
   "metadata": {},
   "source": [
    "WACCM Analysis for 01/15/2009 - 02/15/2009"
   ]
  },
  {
   "cell_type": "code",
   "execution_count": 1,
   "metadata": {},
   "outputs": [],
   "source": [
    "import csv\n",
    "import pandas as pd\n",
    "import numpy as np\n",
    "from numpy import newaxis\n",
    "from numpy.polynomial.polynomial import polyfit\n",
    "import matplotlib.pyplot as plt\n",
    "from matplotlib.lines import Line2D\n",
    "import math\n",
    "from netCDF4 import Dataset\n",
    "#from mpl_toolkits.basemap import Basemap, addcyclic, shiftgrid, cm\n",
    "#%pylab inline --no-import-all\n",
    "%matplotlib inline"
   ]
  },
  {
   "cell_type": "code",
   "execution_count": 2,
   "metadata": {},
   "outputs": [],
   "source": [
    "def ncdump(nc_fid, verb=True):\n",
    "    '''\n",
    "    ncdump outputs dimensions, variables and their attribute information.\n",
    "    The information is similar to that of NCAR's ncdump utility.\n",
    "    ncdump requires a valid instance of Dataset.\n",
    "\n",
    "    Parameters\n",
    "    ----------\n",
    "    nc_fid : netCDF4.Dataset\n",
    "        A netCDF4 dateset object\n",
    "    verb : Boolean\n",
    "        whether or not nc_attrs, nc_dims, and nc_vars are printed\n",
    "\n",
    "    Returns\n",
    "    -------\n",
    "    nc_attrs : list\n",
    "        A Python list of the NetCDF file global attributes\n",
    "    nc_dims : list\n",
    "        A Python list of the NetCDF file dimensions\n",
    "    nc_vars : list\n",
    "        A Python list of the NetCDF file variables\n",
    "    '''\n",
    "    def print_ncattr(key):\n",
    "        \"\"\"\n",
    "        Prints the NetCDF file attributes for a given key\n",
    "\n",
    "        Parameters\n",
    "        ----------\n",
    "        key : unicode\n",
    "            a valid netCDF4.Dataset.variables key\n",
    "        \"\"\"\n",
    "        try:\n",
    "            print((\"\\t\\ttype:\", repr(nc_fid.variables[key].dtype)))\n",
    "            for ncattr in nc_fid.variables[key].ncattrs():\n",
    "                print(('\\t\\t%s:' % ncattr,\\\n",
    "                      repr(nc_fid.variables[key].getncattr(ncattr))))\n",
    "        except KeyError:\n",
    "            print((\"\\t\\tWARNING: %s does not contain variable attributes\" % key))\n",
    "\n",
    "    # NetCDF global attributes\n",
    "    nc_attrs = nc_fid.ncattrs()\n",
    "    if verb:\n",
    "        print(\"NetCDF Global Attributes:\")\n",
    "        for nc_attr in nc_attrs:\n",
    "            print('\\t%s:' % nc_attr, repr(nc_fid.getncattr(nc_attr)))\n",
    "    nc_dims = [dim for dim in nc_fid.dimensions]  # list of nc dimensions\n",
    "    # Dimension shape information.\n",
    "    if verb:\n",
    "        print(\"NetCDF dimension information:\")\n",
    "        for dim in nc_dims:\n",
    "            print(\"\\tName:\", dim) \n",
    "            print(\"\\t\\tsize:\", len(nc_fid.dimensions[dim]))\n",
    "            print_ncattr(dim)\n",
    "    # Variable information.\n",
    "    nc_vars = [var for var in nc_fid.variables]  # list of nc variables\n",
    "    if verb:\n",
    "        print(\"NetCDF variable information:\")\n",
    "        for var in nc_vars:\n",
    "            if var not in nc_dims:\n",
    "                print('\\tName:', var)\n",
    "                print(\"\\t\\tdimensions:\", nc_fid.variables[var].dimensions)\n",
    "                print(\"\\t\\tsize:\", nc_fid.variables[var].size)\n",
    "                print_ncattr(var)\n",
    "    return nc_attrs, nc_dims, nc_vars"
   ]
  },
  {
   "cell_type": "code",
   "execution_count": 3,
   "metadata": {
    "scrolled": false
   },
   "outputs": [],
   "source": [
    "def display_attr():\n",
    "    \"\"\"Displays attributes, dimensions, and variables for a WACCM netCDF4 dataset object.\"\"\"\n",
    "    nc_f = './sdwaccm_tuzgw_2009_01_15_00000.nc'\n",
    "    nc_fid = Dataset(nc_f, mode='r')\n",
    "\n",
    "    nc_attrs, nc_dims, nc_vars = ncdump(nc_fid)\n",
    "    \n",
    "#display_attr()"
   ]
  },
  {
   "cell_type": "markdown",
   "metadata": {},
   "source": [
    "Construct Lists of WACCM Data Files "
   ]
  },
  {
   "cell_type": "code",
   "execution_count": 4,
   "metadata": {},
   "outputs": [],
   "source": [
    "dfs2009 = []\n",
    "#01/2009 dates\n",
    "for day in range(15, 32):\n",
    "    dfs2009.append('./sdwaccm_tuzgw_2009_01_'+str(day)+'_00000.nc')\n",
    "#02/2009 dates\n",
    "for day in range(1, 16):\n",
    "    if day < 10:\n",
    "        dfs2009.append('./sdwaccm_tuzgw_2009_02_0'+str(day)+'_00000.nc')\n",
    "    else:\n",
    "        dfs2009.append('./sdwaccm_tuzgw_2009_02_'+str(day)+'_00000.nc')\n",
    "        \n",
    "#01/2013 dates\n",
    "dfs2013 = []\n",
    "for day in range(1, 32):\n",
    "    if day < 10:\n",
    "        dfs2013.append('./sdwaccm_tuzgw_2013_01_0'+str(day)+'_00000.nc')\n",
    "    else:\n",
    "        dfs2013.append('./sdwaccm_tuzgw_2013_01_'+str(day)+'_00000.nc')"
   ]
  },
  {
   "cell_type": "code",
   "execution_count": 5,
   "metadata": {
    "scrolled": true
   },
   "outputs": [
    {
     "data": {
      "text/plain": [
       "Timestamp('2009-01-15 00:00:00', freq='D')"
      ]
     },
     "execution_count": 5,
     "metadata": {},
     "output_type": "execute_result"
    }
   ],
   "source": [
    "#attempting to use pandas timestamp attr/methods\n",
    "dfs = []\n",
    "for date in pd.date_range('2009-01-15', '2009-02-15'):\n",
    "    dfs.append('./sdwaccm_tuzgw_'+str(date.year)+'_'+str(date.month)+'_'+str(date.day)+'_00000.nc')\n",
    "drange = pd.date_range('2009-01-15', '2009-02-15')\n",
    "drange[0]"
   ]
  },
  {
   "cell_type": "code",
   "execution_count": 6,
   "metadata": {},
   "outputs": [],
   "source": [
    "nc_f = './sdwaccm_tuzgw_2009_01_15_00000.nc'\n",
    "nc_fid = Dataset(nc_f, mode='r')\n",
    "\n",
    "temp = nc_fid.variables['T'][:]\n",
    "wind = nc_fid.variables['U'][:]\n",
    "\n",
    "time = nc_fid.variables['time'][:] #days since 03/24/2008\n",
    "lev = nc_fid.variables['lev'][:]\n",
    "lat = nc_fid.variables['lat'][:]\n",
    "lon = nc_fid.variables['lon'][:]\n",
    "\n",
    "#alt = nc_fid.variables['Z3'][:] #Z3 array is similar to T array"
   ]
  },
  {
   "cell_type": "code",
   "execution_count": 7,
   "metadata": {
    "scrolled": true
   },
   "outputs": [],
   "source": [
    "alt = -7.0 * np.log(lev / 1000.)"
   ]
  },
  {
   "cell_type": "markdown",
   "metadata": {},
   "source": [
    "Functions for finding indices of data arrays:"
   ]
  },
  {
   "cell_type": "code",
   "execution_count": 8,
   "metadata": {},
   "outputs": [],
   "source": [
    "def make_ifinder(arr, val):\n",
    "    \"\"\"Given an array, ARR, and value, VAL, return the index corresponding to the array element closest to VAL.\"\"\"\n",
    "    diff, index = 1e3, 0\n",
    "    for i in range(len(arr)):\n",
    "        if abs(arr[i] - val) < diff:\n",
    "            diff, index = abs(arr[i] - val), i\n",
    "    return index\n",
    "    \n",
    "def lev_i(p):\n",
    "    \"\"\"Return the index corresponding to the pressure levels array value closest to P,\n",
    "    pressure in hPa.\n",
    "    \"\"\"\n",
    "    assert 0 <= p and p <= 1000, \"Pressure level not in range.\"\n",
    "    return make_ifinder(lev, p)\n",
    "\n",
    "def lat_i(deg):\n",
    "    \"\"\"Return the index corresponding to the latitudes array value closest to DEG, \n",
    "    with positive degrees indicating North.\n",
    "    \"\"\"\n",
    "    assert deg <= 90 and deg >= -90, \"Not a valid latitude.\"\n",
    "    return make_ifinder(lat, deg)\n",
    "\n",
    "def lon_i(deg):\n",
    "    \"\"\"Return the index corresponding to the longitudes array value closest to DEG, degrees East.\"\"\"\n",
    "    assert deg >= 0 and deg <= 360, \"Not a valid longitude.\"\n",
    "    return make_ifinder(lon, deg)\n",
    "\n",
    "def alt_i(a):\n",
    "    \"\"\"Return the index corresponding to the altitude array value closest to A in kilometers.\"\"\"\n",
    "    assert a>= 0 and a<= 200, \"Altitude not within range.\"\n",
    "    return make_ifinder(alt, a)\n",
    "cut_alt = alt[alt_i(100): alt_i(200)]"
   ]
  },
  {
   "cell_type": "code",
   "execution_count": 9,
   "metadata": {},
   "outputs": [],
   "source": [
    "def zonals(df, attrstr):\n",
    "    \"\"\"Extracts data from DF, a data file. Returns a 2D array for ATTR with axis0 as pressure levels \n",
    "    and axis1 as lines of latitude.\"\"\"\n",
    "    nc_f = df\n",
    "    nc_fid = Dataset(nc_f, mode='r')\n",
    "    \n",
    "    attr = nc_fid.variables[attrstr][:]\n",
    "\n",
    "    #d_avgs[b][c][d] ; b = lev, c = lat, d = lon\n",
    "    d_avgs = np.sum(attr, axis=0) / len(attr)\n",
    "\n",
    "    #zonal_means[b][c] ; b = lev, c = lat\n",
    "    zonal_means = np.sum(d_avgs, axis=2) / len(lon)\n",
    "    return zonal_means"
   ]
  },
  {
   "cell_type": "markdown",
   "metadata": {},
   "source": [
    "Compile data across many days"
   ]
  },
  {
   "cell_type": "code",
   "execution_count": 10,
   "metadata": {},
   "outputs": [],
   "source": [
    "#see if attr='T' will work bc it should\n",
    "def per(dfs, attrstr):\n",
    "    \"\"\"Compile daily average temperatures into a 3D array with axis0=lev, axis1=lat, axis2=day.\n",
    "    Inputs: DFS - list of data files\n",
    "            ATTRSTR - string object\"\"\"\n",
    "    arrl = []\n",
    "    for df in dfs:\n",
    "        arrl.append(zonals(df, attrstr)[:, :, newaxis])\n",
    "    return np.ma.concatenate(arrl, axis=2)\n",
    "\n",
    "def arctic(dfs, attrstr):\n",
    "    \"\"\"Return 2D array of daily average temperatures in the Arctic where axis0=lev and axis1=day.\"\"\"\n",
    "    return per(dfs, attrstr)[:, lat_i(70)]\n",
    "\n",
    "#temps = arctic(dfs2009, 'T')\n",
    "#winds = arctic(dfs2009, 'U')"
   ]
  },
  {
   "cell_type": "markdown",
   "metadata": {},
   "source": [
    "Misc functions to extract data for scatter plots:"
   ]
  },
  {
   "cell_type": "code",
   "execution_count": 11,
   "metadata": {},
   "outputs": [],
   "source": [
    "#max on a list will call a function on each element of the list, and then call max on the outputted list\n",
    "\n",
    "def tmax(dfs, attr):\n",
    "    \"\"\"Return a list containing altitudes at which each day's hottest temperature is recorded.\"\"\"\n",
    "    #key function takes an index from our selection of altitudes, finds the maximum temperature for a day\n",
    "    #and returns the index for the alt corresponding to that max temp\n",
    "    \n",
    "    M_i = [max(range(alt_i(100), alt_i(20)), key=lambda i: max([attr[i, day]])) for day in range(len(dfs))]\n",
    "    M = [alt[i] for i in M_i]\n",
    "    return M\n",
    "\n",
    "def westmin(dfs, attr):\n",
    "    \"\"\"Return a list containing altitudes at which each day's weakest westerly wind is recorded.\"\"\"\n",
    "    mwest_i = []\n",
    "    for day in range(len(dfs)):\n",
    "        diff, min_i = 10, 0\n",
    "        for i in range(alt_i(100), alt_i(20)):\n",
    "            if attr[i, day] <= 0 and abs(attr[i, day]) < diff:\n",
    "                diff = abs(attr[i, day])\n",
    "                min_i = i\n",
    "        mwest_i.append(min_i)\n",
    "    mwest = [alt[i] for i in mwest_i]        \n",
    "    return mwest\n",
    "\n",
    "def zeros(dfs, attr):\n",
    "    \"\"\"Return two lists of altitudes (km) and times (day) at which wind changes direction.\"\"\"\n",
    "    #find every point during the month where wind changes direction??\n",
    "    #z_i = []\n",
    "    #similar to the pingpong problem where you record sign=true/false\n",
    "    #add alt to alt list and day to day list every time the sign changes\n",
    "    def switch(x):\n",
    "        if x >= 0:\n",
    "            direction = True\n",
    "        else:\n",
    "            direction = False\n",
    "        return direction \n",
    "    zdays, zeros_i = [], []\n",
    "    for day in range(len(dfs)):\n",
    "        for i in range(alt_i(100), alt_i(20)-1):\n",
    "            if switch(attr[i, day]) != switch(attr[i+1, day]):\n",
    "                zeros_i.append(i)\n",
    "                zdays.append(day)\n",
    "    zalts = [alt[i] for i in zeros_i]\n",
    "    return zalts, zdays\n",
    "    \n",
    "\n",
    "# mwest = westmin(winds)\n",
    "# zalts, zdays = zeros(winds)"
   ]
  },
  {
   "cell_type": "code",
   "execution_count": 14,
   "metadata": {},
   "outputs": [
    {
     "data": {
      "text/plain": [
       "[59.31990781325891,\n",
       " 59.31990781325891,\n",
       " 55.75071338146722,\n",
       " 49.035361649315405,\n",
       " 47.31549769528363,\n",
       " 45.63059694739334,\n",
       " 43.980658278687926,\n",
       " 43.980658278687926,\n",
       " 36.25528199448238,\n",
       " 40.78563583698755,\n",
       " 39.240556364685595,\n",
       " 40.78563583698755,\n",
       " 42.36566735533331,\n",
       " 32.03953527083042,\n",
       " 36.25528199448238,\n",
       " 29.374524903893033,\n",
       " 28.07349281249636,\n",
       " 24.296329000143793,\n",
       " 21.879346328207077,\n",
       " 77.08567014218634,\n",
       " 21.879346328207077,\n",
       " 85.91863306543883,\n",
       " 85.91863306543883,\n",
       " 85.91863306543883,\n",
       " 75.31509309666873,\n",
       " 75.31509309666873,\n",
       " 73.54318556810804,\n",
       " 73.54318556810804,\n",
       " 75.31509309666873,\n",
       " 73.54318556810804,\n",
       " 73.54318556810804,\n",
       " 71.7699465566803]"
      ]
     },
     "execution_count": 14,
     "metadata": {},
     "output_type": "execute_result"
    }
   ],
   "source": [
    "tmax(dfs2009, arctic(dfs2009, 'T'))"
   ]
  },
  {
   "cell_type": "code",
   "execution_count": null,
   "metadata": {},
   "outputs": [],
   "source": [
    "def bestfit(dfs):\n",
    "    #change sswstart so that it returns the index instead, then have iloc index through the dfs\n",
    "    Mtemps = tmax(dfs, 'T')\n",
    "    b, m = polyfit(x[:19], Mtemps[:19], 1)\n",
    "    bfit = plt.plot(x[:19], m * x[:19] + b, 'w', dashes=[4,4], mec='black')\n",
    "bestfit(dfs2009)"
   ]
  },
  {
   "cell_type": "code",
   "execution_count": null,
   "metadata": {},
   "outputs": [],
   "source": [
    "def angle(slope):\n",
    "    \"\"\"Return angle measured from horizontal.\"\"\"\n",
    "    theta = math.atan(slope)\n",
    "    return abs(math.degrees(theta))"
   ]
  },
  {
   "cell_type": "markdown",
   "metadata": {},
   "source": [
    "Contour plot functions:"
   ]
  },
  {
   "cell_type": "code",
   "execution_count": null,
   "metadata": {
    "scrolled": false
   },
   "outputs": [],
   "source": [
    "def cp_temp(dfs, temps, Mtemps):\n",
    "    \"\"\"Display altitude over time temperature contour plot, with markers at hottest altitude per day.\"\"\"\n",
    "    #inputs for plotting: dgs, temps, Mtemps\n",
    "    fig = plt.figure(figsize=(8,4))\n",
    "    left, bottom, width, height = 0.1, 1, 1, 1\n",
    "    ax = fig.add_axes([left, bottom, width, height]) \n",
    "\n",
    "    x = np.array(range(len(dfs)))\n",
    "    y = alt[alt_i(100): alt_i(20)]\n",
    "    X, Y = np.meshgrid(x, y)\n",
    "    Z = temps[alt_i(100): alt_i(20)]\n",
    "\n",
    "    cp = plt.contourf(X, Y, Z, cmap='coolwarm')\n",
    "    plt.colorbar(cp).set_label('Temperature ($K$)', rotation=270, labelpad=15)\n",
    "    \n",
    "    max = plt.scatter(range(len(dfs)), Mtemps, c='white', edgecolor='black', linewidth=0.4)\n",
    "    plt.legend([max], ['Max temp per day'], fontsize='small', loc='best')\n",
    "    \n",
    "    #line of best fit\n",
    "    b, m = polyfit(x[:19], Mtemps[:19], 1)\n",
    "    bfit = plt.plot(x[:19], m * x[:19] + b, 'w', dashes=[4,4], mec='black')\n",
    "    \n",
    "    ax.set_title('Temperature in Arctic '+str(dfs[0][16:20]), size=14)\n",
    "    ax.set_xlabel('Days Since '+str(dfs[0][16:26]))\n",
    "    ax.set_ylabel('Altitude ($km$)')\n",
    "    \n",
    "    \n",
    "    #print(\"Best fit line slope:\\n\" + str(m) + \"\\n\")\n",
    "    #print(\"Angle between best fit line and horizontal:\\n\" + str(angle(m)))\n",
    "    txtstr = \"Best fit line slope:\\n\"+str(m)+\"\\n\"+\"Angle between best fit line and horizontal:\\n\" + str(angle(m))\n",
    "    fig.text(0, 0.7, txtstr, size='large')\n",
    "    plt.show()\n",
    "    \n",
    "def cp_ws(dfs, winds, mwest, zalts, zdays):\n",
    "    \"\"\"Display altitude over time wind speeds contour plot.\"\"\"\n",
    "    #inputs for plotting: dfs, winds, mwest, zdays, zalts\n",
    "    fig = plt.figure(figsize=(8,4))\n",
    "    left, bottom, width, height = 1, 1, 1, 1\n",
    "    ax = fig.add_axes([left, bottom, width, height])  \n",
    "    \n",
    "    x = np.array(range(len(dfs)))\n",
    "    y = alt[alt_i(100): alt_i(20)]\n",
    "    X, Y = np.meshgrid(x, y)\n",
    "    Z = winds[alt_i(100): alt_i(20)]\n",
    "\n",
    "    cp = plt.contourf(X, Y, Z, cmap='Blues')\n",
    "    plt.colorbar(cp).set_label('Wind Speed ($m/s$)', rotation=270, labelpad=15)\n",
    "    \n",
    "    mins = plt.scatter(range(len(dfs)), mwest, c='sienna', edgecolor='black', linewidth=0.4)\n",
    "    zeros = plt.scatter(zdays, zalts, c='wheat', edgecolor='black', linewidth=0.4)\n",
    "    plt.legend([zeros, mins], ['Direction Switches', 'Min Westerly'], fontsize='small', loc=3)\n",
    "    \n",
    "    ax.set_title('Wind Speeds in Arctic '+str(dfs[0][16:20]), size=14)\n",
    "    ax.set_xlabel('Days Since '+str(dfs[0][16:26]))\n",
    "    ax.set_ylabel('Altitude ($km$)')\n",
    "\n",
    "    plt.show()"
   ]
  },
  {
   "cell_type": "code",
   "execution_count": null,
   "metadata": {
    "scrolled": false
   },
   "outputs": [],
   "source": [
    "def cps(dfs):\n",
    "    \"\"\"Display two contour plots given DFS, a list of WACCM data files to plot.\"\"\"\n",
    "    nc_f = dfs[0]\n",
    "    nc_fid = Dataset(nc_f, mode='r')\n",
    "    \n",
    "    temps = arctic(dfs, 'T')\n",
    "    winds = arctic(dfs, 'U')\n",
    "\n",
    "    Mtemps = tmax(dfs, temps)\n",
    "\n",
    "    mwest = westmin(dfs, winds)\n",
    "    zalts, zdays = zeros(dfs, winds)\n",
    "    \n",
    "    #instead of inserting different dfs here, insert it in temps/winds\n",
    "    cp_temp(dfs, temps, Mtemps)\n",
    "    cp_ws(dfs, winds, mwest, zalts, zdays)\n",
    "cps(dfs2009)\n",
    "#cps(dfs2013)"
   ]
  },
  {
   "cell_type": "code",
   "execution_count": null,
   "metadata": {},
   "outputs": [],
   "source": [
    "winds = arctic(dfs2009, 'U')\n",
    "temps = arctic(dfs2009, 'T')\n",
    "max(temps[alt_i(100): alt_i(20)].flatten())"
   ]
  },
  {
   "cell_type": "code",
   "execution_count": null,
   "metadata": {},
   "outputs": [],
   "source": [
    "#if wind goes from E -> W, then include it as a row in the df\n",
    "#for now, take best fit from -5 to +15 from ssw starting date, adjust as needed\n",
    "\n",
    "# Creating empty dataframe\n",
    "df = pd.DataFrame(0, columns=['SSW Starting Date', 'Max Temp', 'Slope', 'Angle'], index=['2009', '2013'])\n",
    "\n",
    "dfs = [dfs2009, dfs2013]\n",
    "for i in range(len(dfs)): #replace 2 with number of rows using shape?\n",
    "    df.iloc[i] = [sswstart(dfs[i]), max(arctic(dfs[i], 'T')[alt_i(100): alt_i(20)].flatten()), 0, 0]\n",
    "df\n",
    "# Saving the time series into csv file\n",
    "#df.to_csv('SSW Info.csv')"
   ]
  },
  {
   "cell_type": "code",
   "execution_count": null,
   "metadata": {},
   "outputs": [],
   "source": []
  },
  {
   "cell_type": "code",
   "execution_count": null,
   "metadata": {
    "scrolled": true
   },
   "outputs": [],
   "source": [
    "\n",
    "winds[lev_i(10), :]"
   ]
  },
  {
   "cell_type": "code",
   "execution_count": null,
   "metadata": {},
   "outputs": [],
   "source": [
    "#check with chihoko if ssw starting = wind going from e to w which means if that doesn't happen there's no ssw?\n",
    "def sswstart(dfs):\n",
    "    \"\"\"Return the date in YY-MM-DD that stratospheric sudden warming begins. \n",
    "    None if the year in data files, DFS, does not have this phenomenon occur.\"\"\"\n",
    "    winds = arctic(dfs, 'U')\n",
    "    winds = winds[lev_i(10), :]\n",
    "    for day in range(len(winds)): \n",
    "        if winds[day] < 0:\n",
    "            return dfs[day][16:26]"
   ]
  },
  {
   "cell_type": "code",
   "execution_count": null,
   "metadata": {},
   "outputs": [],
   "source": [
    "#Example plot\n",
    "#Plot the temps across 32 days at lev = 0 aka alt = 20, lat=70\n",
    "tim = range(32)\n",
    "win = winds[lev_i(10), :]\n",
    "fig = plt.figure()\n",
    "ax = fig.add_subplot(1, 1, 1)\n",
    "fig.subplots_adjust(left=0., right=1., bottom=0., top=0.9)\n",
    "ax.set_facecolor('white')\n",
    "\n",
    "plt.plot(tim, win) \n",
    "plt.xlabel('Days Since 01/15/2009')\n",
    "plt.ylabel('Wind ( $K$ )')\n",
    "plt.title('Average Wind in Arctic (alt = 20 $km$) ')\n",
    "\n",
    "plt.show()"
   ]
  },
  {
   "cell_type": "code",
   "execution_count": null,
   "metadata": {
    "scrolled": false
   },
   "outputs": [],
   "source": [
    "#Extracts and displays alt v. temp data    \n",
    "def plot(df):\n",
    "    \"\"\"Plots temperature over altitude for DF, a nc file, for the Arctic (70N).\"\"\"\n",
    "    nc_f = df\n",
    "    nc_fid = Dataset(nc_f, mode='r')\n",
    "    \n",
    "    def extract(df, lat=70):\n",
    "        \"\"\"Extracts data from DF, a data file. Returns zonal mean temperature data in the form of a \n",
    "        2D array with axis0 as pressure levels and axis1 as latitudes.\"\"\"\n",
    "    \n",
    "        temp = nc_fid.variables['T'][:]\n",
    "        \n",
    "        #Find mean of the 8 recorded temperatures for every lev, lat, lon combo\n",
    "        #d_avg[b][c][d] ; b = lev, c = lat, d = lon\n",
    "        d_avgs = np.sum(temp, axis=0) / len(temp)\n",
    "\n",
    "        #Find mean across longitude, aka mean of the recorded temps for every lev and lat combo\n",
    "        #zonal_means[b][c] ; b = lev, c = lat\n",
    "        zonal_means = np.sum(d_avgs, axis=2) / len(lon)\n",
    "        \n",
    "        #Select latitude (default 70N)\n",
    "        zonal_means = zonal_means[:, lat_i(lat)]\n",
    "        \n",
    "        return zonal_means\n",
    "    \n",
    "    def display(zonals, start=100, end=20):\n",
    "        \"\"\"Displays temp v. alt plot. ZONALS is the output of extract. \n",
    "        START and END determine the range of altitude.\"\"\"\n",
    "        \n",
    "        #Set altitude range (default 20-100 km)\n",
    "        cut_alt = alt[alt_i(start): alt_i(end)]\n",
    "        cut_zonals = zonals[alt_i(start): alt_i(end)]\n",
    "    \n",
    "        #Splice date from nc file name\n",
    "        date = nc_f[16:26]\n",
    "        \n",
    "        fig = plt.figure()\n",
    "        fig.subplots_adjust(left=0., right=1., bottom=0., top=0.9)\n",
    "        plt.plot(cut_zonals, cut_alt)\n",
    "        plt.xlabel('Temperature ( $K$ )')\n",
    "        plt.ylabel('Altitude ( $km$ )')\n",
    "        plt.title(date + ' Altitutde v. Temperature in Arctic')\n",
    "        plt.show()\n",
    "        \n",
    "    return display(extract(df))\n",
    "\n",
    "def plot_all():\n",
    "    \"\"\"Displays a alt v. temp plot for every nc file listed in dfs.\"\"\"\n",
    "    for df in dfs:\n",
    "        plot(df)\n",
    "#plot_all()"
   ]
  },
  {
   "cell_type": "code",
   "execution_count": null,
   "metadata": {
    "scrolled": true
   },
   "outputs": [],
   "source": [
    "#Example plot using the new 3D array\n",
    "cut_alt = alt[alt_i(100): alt_i(20)]\n",
    "cut_temp = temps[alt_i(100): alt_i(20)]\n",
    "fig = plt.figure(figsize=(7, 7))\n",
    "fig.subplots_adjust(left=0., right=1., bottom=0., top=0.9)\n",
    "plt.plot(cut_temp, cut_alt)\n",
    "plt.legend(range(len(temps[0])), title=\"Days since 01/15\", fontsize='small', loc=1)\n",
    "plt.xlabel('Temperature ( $K$ )')\n",
    "plt.ylabel('Altitude ( $km$ )')\n",
    "plt.title('Average Temperature in Arctic')\n",
    "plt.show()"
   ]
  }
 ],
 "metadata": {
  "kernelspec": {
   "display_name": "Python 3",
   "language": "python",
   "name": "python3"
  },
  "language_info": {
   "codemirror_mode": {
    "name": "ipython",
    "version": 3
   },
   "file_extension": ".py",
   "mimetype": "text/x-python",
   "name": "python",
   "nbconvert_exporter": "python",
   "pygments_lexer": "ipython3",
   "version": "3.7.6"
  }
 },
 "nbformat": 4,
 "nbformat_minor": 4
}
