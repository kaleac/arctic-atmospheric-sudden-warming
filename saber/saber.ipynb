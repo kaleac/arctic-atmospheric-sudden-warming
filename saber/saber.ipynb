{
 "cells": [
  {
   "cell_type": "code",
   "execution_count": 21,
   "metadata": {},
   "outputs": [],
   "source": [
    "import netCDF4\n",
    "from netCDF4 import Dataset\n",
    "\n",
    "import csv\n",
    "import pandas as pd\n",
    "\n",
    "import numpy as np\n",
    "from numpy import newaxis\n",
    "# from numpy.polynomial.polynomial import polyfit\n",
    "import matplotlib.pyplot as plt\n",
    "# from matplotlib.lines import Line2D\n",
    "\n",
    "import math\n",
    "\n",
    "import warnings\n",
    "import dill\n",
    "import timeit\n",
    "from timeit import Timer\n",
    "\n",
    "%matplotlib inline"
   ]
  },
  {
   "cell_type": "markdown",
   "metadata": {},
   "source": [
    "## Extracting and organizing data arrays"
   ]
  },
  {
   "cell_type": "code",
   "execution_count": 22,
   "metadata": {},
   "outputs": [],
   "source": [
    "def ncdump(nc_fid, verb=True):\n",
    "    '''\n",
    "    ncdump outputs dimensions, variables and their attribute information.\n",
    "    The information is similar to that of NCAR's ncdump utility.\n",
    "    ncdump requires a valid instance of Dataset.\n",
    "\n",
    "    Parameters\n",
    "    ----------\n",
    "    nc_fid : netCDF4.Dataset\n",
    "        A netCDF4 dataset object\n",
    "    verb : Boolean\n",
    "        whether or not nc_attrs, nc_dims, and nc_vars are printed\n",
    "\n",
    "    Returns\n",
    "    -------\n",
    "    nc_attrs : list\n",
    "        A Python list of the NetCDF file global attributes\n",
    "    nc_dims : list\n",
    "        A Python list of the NetCDF file dimensions\n",
    "    nc_vars : list\n",
    "        A Python list of the NetCDF file variables\n",
    "    '''\n",
    "    def print_ncattr(key):\n",
    "        \"\"\"\n",
    "        Prints the NetCDF file attributes for a given key\n",
    "\n",
    "        Parameters\n",
    "        ----------\n",
    "        key : unicode\n",
    "            a valid netCDF4.Dataset.variables key\n",
    "        \"\"\"\n",
    "        try:\n",
    "            print((\"\\t\\ttype:\", repr(nc_fid.variables[key].dtype)))\n",
    "            for ncattr in nc_fid.variables[key].ncattrs():\n",
    "                print(('\\t\\t%s:' % ncattr,\\\n",
    "                      repr(nc_fid.variables[key].getncattr(ncattr))))\n",
    "        except KeyError:\n",
    "            print((\"\\t\\tWARNING: %s does not contain variable attributes\" % key))\n",
    "\n",
    "    # NetCDF global attributes\n",
    "    nc_attrs = nc_fid.ncattrs()\n",
    "    if verb:\n",
    "        print(\"NetCDF Global Attributes:\")\n",
    "        for nc_attr in nc_attrs:\n",
    "            print('\\t%s:' % nc_attr, repr(nc_fid.getncattr(nc_attr)))\n",
    "    nc_dims = [dim for dim in nc_fid.dimensions]  # list of nc dimensions\n",
    "    # Dimension shape information.\n",
    "    if verb:\n",
    "        print(\"NetCDF dimension information:\")\n",
    "        for dim in nc_dims:\n",
    "            print(\"\\tName:\", dim) \n",
    "            print(\"\\t\\tsize:\", len(nc_fid.dimensions[dim]))\n",
    "            print_ncattr(dim)\n",
    "    # Variable information.\n",
    "    nc_vars = [var for var in nc_fid.variables]  # list of nc variables\n",
    "    if verb:\n",
    "        print(\"NetCDF variable information:\")\n",
    "        for var in nc_vars:\n",
    "            if var not in nc_dims:\n",
    "                print('\\tName:', var)\n",
    "                print(\"\\t\\tdimensions:\", nc_fid.variables[var].dimensions)\n",
    "                print(\"\\t\\tsize:\", nc_fid.variables[var].size)\n",
    "                print_ncattr(var)\n",
    "    return nc_attrs, nc_dims, nc_vars"
   ]
  },
  {
   "cell_type": "code",
   "execution_count": 23,
   "metadata": {
    "scrolled": true
   },
   "outputs": [],
   "source": [
    "def display_attr():\n",
    "    \"\"\"Displays attributes, dimensions, and variables for a WACCM netCDF4 dataset object.\"\"\"\n",
    "    nc_f = 'SABER_2009-01.nc'\n",
    "    nc_fid = Dataset(nc_f, mode='r')\n",
    "\n",
    "    nc_attrs, nc_dims, nc_vars = ncdump(nc_fid)\n",
    "\n",
    "# Uncomment next line for information on attr, dim, var info\n",
    "\n",
    "#display_attr()"
   ]
  },
  {
   "cell_type": "markdown",
   "metadata": {},
   "source": [
    "Dimensions: \n",
    "\n",
    "    Name: altitude\n",
    "        size: 382\n",
    "\n",
    "    Name: event\n",
    "        size: 43726\n",
    "\n",
    "event = a cycle of measurements from ~150 km down to ~ 10 km, aka for 382 altitude levels.  \n",
    "\n",
    "\n",
    "Masked values with '--' as a placeholder can be dealt with using np.nan, but replacing it with 0 K as it's temperature value makes things simpler"
   ]
  },
  {
   "cell_type": "code",
   "execution_count": 24,
   "metadata": {},
   "outputs": [],
   "source": [
    "nc_f = 'SABER_2009-01.nc'\n",
    "ds = Dataset(nc_f, mode='r')\n",
    "\n",
    "lat = ds.variables['tplatitude'][:] # dimensions: ('event', 'altitude')\n",
    "lon = ds.variables['tplongitude'][:] # dimensions: ('event', 'altitude')\n",
    "temp = ds.variables['ktemp'][:] # dimensions: ('event', 'altitude') # in K\n",
    "alt = ds.variables['tpaltitude'][:] # dimensions: ('event', 'altitude')\n",
    "date = ds.variables['date'][:] # dimensions: ('event',) # yyyyddd\n",
    "\n",
    "ds.close()"
   ]
  },
  {
   "cell_type": "markdown",
   "metadata": {},
   "source": [
    "### Latitude, longitude, and altitude values for the new temperature array"
   ]
  },
  {
   "cell_type": "code",
   "execution_count": 25,
   "metadata": {},
   "outputs": [],
   "source": [
    "# make a new_attr_i to go with these arrays\n",
    "new_lat = np.arange(-85, 85+10, 10)\n",
    "new_lon = np.arange(10, 350+20, 20)\n",
    "new_alt = np.arange(11, 149+2, 2)"
   ]
  },
  {
   "cell_type": "markdown",
   "metadata": {},
   "source": [
    "### Functions for slicing/retrieving data from original arrays \n",
    "FIND_I = returns index for a single event and value\n",
    " - doesn't work well due to each event (exc alt variable) containing a small window of values\n",
    "\n",
    "DATE_STARTI/ENDI = returns index corresponding to desired day"
   ]
  },
  {
   "cell_type": "code",
   "execution_count": 26,
   "metadata": {},
   "outputs": [],
   "source": [
    "# doesn't work super well because each event array has such a small range**\n",
    "\n",
    "def find_i(arr, event, desired_val):\n",
    "    \"\"\"Return the index corresponding to the array element closest to DESIRED_VAL for an EVENT.\"\"\"\n",
    "    event_arr = arr[event]\n",
    "    closest_val = min(event_arr, key=lambda val: abs(desired_val - val))\n",
    "    for i in range(len(event_arr)):\n",
    "        if event_arr[i] == closest_val:\n",
    "            return i\n",
    "def lat_i(event, desired_val):\n",
    "    return find_i(lat, event, desired_val)\n",
    "\n",
    "def lon_i(event, desired_val):\n",
    "    return find_i(lon, event, desired_val)\n",
    "\n",
    "def temp_i(event, desired_val):\n",
    "    return find_i(temp, event, desired_val)\n",
    "\n",
    "def alt_i(event, desired_val):\n",
    "    return find_i(alt, event, desired_val)"
   ]
  },
  {
   "cell_type": "code",
   "execution_count": 27,
   "metadata": {},
   "outputs": [],
   "source": [
    "def date_starti(YYYYDDD):\n",
    "    \"\"\"Returns index for the first event at which a seven-digit date in the form YYYYDDD in the date array.\"\"\"\n",
    "    indices = np.where(date == YYYYDDD)\n",
    "    first_i = indices[0][0]\n",
    "    return first_i\n",
    "def date_endi(YYYYDDD):\n",
    "    \"\"\"Return index + 1 for the last event at which a seven-digit date in the form YYYYDDD in the date array.\"\"\"\n",
    "    indices = np.where(date == YYYYDDD)\n",
    "    last_i = indices[0][len(indices[0])-1]\n",
    "    return last_i + 1"
   ]
  },
  {
   "cell_type": "markdown",
   "metadata": {},
   "source": [
    "### Building the new array\n",
    "\n",
    "Need a new temperature array with dimensions: ('altitude', 'longitude', 'latitude') for one day\n",
    "i.e. new_array[0][1][2] returns a temperature (in K) for the 0th indexed altitude, 1st indexed longitude, and 2nd indexed latitude\n",
    "\n",
    "Therefore, find all values that fit into a 10 degree latitude bin (e.g. 0 to 10 deg, 10 to 20), 20 degree longitude bin, and 2 degree altitude bin\n",
    "\n",
    "--> BIN_I_WCOND returns a list of indices that fit into all 3 bins\n",
    "    - can be thought of as a bins_for_lat function\n",
    "\n",
    "--> BINS_FOR_LON replaces indices with temperatures (in K) and collects numpy arrays corresponding to every latitude \n",
    "    -for 10 deg sized bins, each array corresponds to 5, 10, ... 170, 175 deg\n",
    "    \n",
    "--> AVG_BINS_FOR_LON averages each latitude bin in a 2d array into one temperature value \n",
    "\n",
    "--> BINS_FOR_ALT collects lists corresponding to longitudes, where each list also contains lists corresponding to latitudes\n",
    "\n",
    "--> BINS_FOR_DAY collects lists corresponding to altitudes, which contain lists corresponding to longitudes, which contain lists corresponding to latitudes, and returns a np.array"
   ]
  },
  {
   "cell_type": "code",
   "execution_count": 28,
   "metadata": {},
   "outputs": [],
   "source": [
    "def bin_i_wcond(YYYYDDD, attr, lower, upper, attr2, lower2, upper2, attr3, lower3, upper3):\n",
    "    \"\"\"Return a list of indices for a flattened (1d) array of all measurements taken on YYYYDDD.\n",
    "    Each list element corresponds to ATTR values between LOWER and UPPER, ATTR2 between LOWER2 and UPPER2, \n",
    "    and ATTR3 between LOWER3 and UPPER3.\n",
    "    \n",
    "    run to test:\n",
    "    >>>bin_i_wcond(2009015, lat, 10, 20, lon, 0, 20, alt, 30, 32) \n",
    "    [5677, 5678, ..., 211581 #list of indices that correspond to bins centered at 5 deg lat, 10 deg lon, 1 km alt\n",
    "    \"\"\"\n",
    "    \n",
    "    # DATE_ATTRS_ is the flattened array discussed in the docstring for ATTR_\n",
    "    date_attrs = attr[date_starti(YYYYDDD): date_endi(YYYYDDD)].flatten()\n",
    "    date_attrs2 = attr2[date_starti(YYYYDDD): date_endi(YYYYDDD)].flatten()\n",
    "    date_attrs3 = attr3[date_starti(YYYYDDD): date_endi(YYYYDDD)].flatten()\n",
    "    \n",
    "    # ATTR_STEP_ is the size of each ATTR_ bin\n",
    "    attr_step = upper - lower\n",
    "    attr_step2 = upper2 - lower2\n",
    "    attr_step3 = upper3 - lower3\n",
    "    \n",
    "    # ATTR_INDICES_ are lists of indices that fit into the bin set by LOWER_, UPPER_, and their respective steps\n",
    "    attr_indices =  np.where(abs(date_attrs - lower - (attr_step / 2)) <= attr_step / 2)[0] #lat\n",
    "    attr_indices2 = np.where(abs(date_attrs2 - lower2 - (attr_step2 / 2)) <= attr_step2 / 2)[0] #lon\n",
    "    attr_indices3 = np.where(abs(date_attrs3 - lower3 -(attr_step3 / 2)) <= attr_step3 / 2)[0] #alt\n",
    "    \n",
    "    # Collect only the elements that fall into each bin \n",
    "    indices_in_bin = []\n",
    "    max_index = min(max(attr_indices, default=0), max(attr_indices2, default=0), max(attr_indices3, default=0))\n",
    "\n",
    "    for i in range(max_index):\n",
    "        if i in attr_indices and i in attr_indices2 and i in attr_indices3:\n",
    "            indices_in_bin.append(i)\n",
    "    return indices_in_bin"
   ]
  },
  {
   "cell_type": "code",
   "execution_count": 56,
   "metadata": {},
   "outputs": [
    {
     "name": "stdout",
     "output_type": "stream",
     "text": [
      "3.3435954129001404\n"
     ]
    }
   ],
   "source": [
    "if __name__=='__main__':\n",
    "    t = Timer(lambda: bin_i_wcond(2009015, lat, 10, 20, lon, 0, 20, alt, 30, 32))\n",
    "    iters = 10\n",
    "    print(t.timeit(number=iters) / iters)"
   ]
  },
  {
   "cell_type": "code",
   "execution_count": 127,
   "metadata": {},
   "outputs": [],
   "source": [
    "def bins_for_lon(YYYYDDD, lat_start, lat_stop, lat_step, lon_start, lon_stop, alt_start, alt_stop):\n",
    "    \"\"\"Return a 2d array of temperatures for all LAT_STEP degree bins of latitude for one \n",
    "    LON_START - LON_STOP degree bin of longitude by collecting temperature arrays corresponding to one latitude bin.\n",
    "    \n",
    "    >>>ZeroToTwentyLon = bins_for_lon(2009015, -90, 90, 10, 0, 20, 30, 35)\n",
    "    \n",
    "    >>>len(ZeroToTwentyLon)\n",
    "    18 # ((lat_stop-lat_start)/lat_step) number of nested lists\"\"\"\n",
    "    # Flatten YYYYDDD's temperature measurements so we can use BIN_I_WCOND\n",
    "    date_temps = temp[date_starti(YYYYDDD): date_endi(YYYYDDD)].flatten()\n",
    "    # Replace masked values with 0\n",
    "    date_temps[date_temps.mask] = 0\n",
    "    \n",
    "    # Setting up latitude bins\n",
    "    lat_stop = lat_stop + lat_step\n",
    "    lat_edges = np.arange(lat_start, lat_stop, lat_step).tolist()\n",
    "    \n",
    "    # Appending latitude bins to build up a list corresponding to one longitude \n",
    "    bins_for_lon = []\n",
    "    while len(lat_edges) >= 2:\n",
    "        lower, upper = lat_edges[0], lat_edges[1]\n",
    "        ind = bin_i_wcond(YYYYDDD, lat, lower, upper, lon, lon_start, lon_stop, alt, alt_start, alt_stop)\n",
    "        bins_for_lon.append(date_temps[ind])\n",
    "        lat_edges = lat_edges[1:]\n",
    "    return bins_for_lon\n"
   ]
  },
  {
   "cell_type": "markdown",
   "metadata": {},
   "source": [
    "#### BINS_FOR_LON runs linearly:\n",
    "    - on my comp BIN_I_WCOND takes ~3 seconds, and BINS_FOR_LON takes ~50\n",
    "    -3 s * 18 latitude bins --> ~54 s"
   ]
  },
  {
   "cell_type": "code",
   "execution_count": 34,
   "metadata": {},
   "outputs": [
    {
     "name": "stdout",
     "output_type": "stream",
     "text": [
      "50.3289421292\n"
     ]
    }
   ],
   "source": [
    "if __name__=='__main__': # w max changed to min #16 s\n",
    "    t = Timer(lambda: bins_for_lon(2009015, -90, 90, 10, 0, 20, 30, 35))\n",
    "    iters = 10\n",
    "    print(t.timeit(number=iters) / iters)"
   ]
  },
  {
   "cell_type": "code",
   "execution_count": 128,
   "metadata": {},
   "outputs": [],
   "source": [
    "def avg_bins_for_lon(YYYYDDD, lat_start, lat_stop, lat_step, lon_start, lon_stop, alt_start, alt_stop):\n",
    "    \"\"\"Return a list such that each list contains one temperature value representing the mean latitude of a \n",
    "    LAT_STEP degree bin.\n",
    "    \n",
    "    >>>avg_bins_for_lon(2009015, -90, 90, 10, 0, 20, 30, 32)\n",
    "    \"\"\"\n",
    "    bins = bins_for_lon(YYYYDDD, lat_start, lat_stop, lat_step, lon_start, lon_stop, alt_start, alt_stop)\n",
    "    # Replace any empty latitude bins with 0 K\n",
    "    for i in range(len(bins)):\n",
    "        if bins[i].size == 0:\n",
    "            bins[i] = 0\n",
    "    return list(map(np.mean, bins))"
   ]
  },
  {
   "cell_type": "code",
   "execution_count": 153,
   "metadata": {},
   "outputs": [
    {
     "name": "stdout",
     "output_type": "stream",
     "text": [
      "52.513126711599945\n"
     ]
    }
   ],
   "source": [
    "if __name__=='__main__': \n",
    "    t = Timer(lambda: avg_bins_for_lon(2009015, -90, 90, 10, 0, 20, 30, 32))\n",
    "    iters = 10\n",
    "    print(t.timeit(number=iters) / iters)"
   ]
  },
  {
   "cell_type": "code",
   "execution_count": 155,
   "metadata": {},
   "outputs": [],
   "source": [
    "def bins_for_alt(YYYYDDD, lat_start=-90, lat_stop=90, lat_step=10, lon_start=0, lon_stop=360, lon_step=20, alt_start=30, alt_stop=32):\n",
    "    \"\"\"Return a 3d list of temperatures for all LON_STEP degree bins of longitude for one \n",
    "    ALT_START to ALT_STOP kilometer bin of altitude by collecting lists temperatures that fit in every longitude bin.\n",
    "    \n",
    "    Quantity of latitude bins must equal quantity of longitude bins\n",
    "    i.e. (lat_stop - lat_start)/lat_step == (lon_stop - lon_start)/lon_stop\n",
    "    \n",
    "    run to test:\n",
    "    >>>ThirtyToThirtyTwoAlt = bins_for_alt(2009015, -90, 90, 10, 0, 360, 20, 30, 32)\n",
    "    \n",
    "    >>>len(ThirtyToThirtyTwoAlt)\n",
    "    18 # ((lon_stop-lon_start)/ lon_step) number of nested lists\n",
    "    \"\"\"\n",
    "    # Setting up longitude bins\n",
    "    lon_stop = lon_stop + lon_step\n",
    "    lon_edges = np.arange(lon_start, lon_stop, lon_step).tolist()\n",
    "    \n",
    "    # Since we know the size of the outputted list\n",
    "    num_lat_bins = int((lat_stop - lat_start) / lat_step)\n",
    "    bins_for_alt = np.zeros([num_lat_bins, 1])\n",
    "    \n",
    "    curr_lat_ind = 0\n",
    "    while len(lon_edges) >= 2:\n",
    "        lower, upper = lon_edges[0], lon_edges[1]\n",
    "        bins_for_alt[curr_lat_ind][0] = avg_bins_for_lon(YYYYDDD, lat_start, lat_stop, lat_step, lower, upper, alt_start, alt_stop)[0]\n",
    "        curr_lat_ind +=1\n",
    "        lon_edges = lon_edges[1:]\n",
    "    return bins_for_alt.tolist()"
   ]
  },
  {
   "cell_type": "code",
   "execution_count": 156,
   "metadata": {},
   "outputs": [
    {
     "name": "stdout",
     "output_type": "stream",
     "text": [
      "5.7311618370004\n"
     ]
    }
   ],
   "source": [
    "if __name__=='__main__': \n",
    "    t = Timer(lambda: bins_for_alt(2009015, -90, 90, 10, 0, 360, 20, 0, 2))\n",
    "    iters = 1\n",
    "    print(t.timeit(number=iters) / iters)"
   ]
  },
  {
   "cell_type": "code",
   "execution_count": 149,
   "metadata": {},
   "outputs": [],
   "source": [
    "def bins_for_day(YYYYDDD, lat_start=-90, lat_stop=90, lat_step=10, lon_start=0, lon_stop=360, lon_step=20, alt_start=30, alt_stop=100, alt_step=2):\n",
    "    \"\"\"Return a 4d array of temperatures for all ALT_STEP degree bins of altitude.\n",
    "    >>> 2009015latlonalt = bins_for_day(2009015, -90, 90, 10, 0, 360, 20, 30, 100, 2)\n",
    "    >>> len(2009015latlonalt)\n",
    "    35\n",
    "    \"\"\"\n",
    "    alt_stop = alt_stop + alt_step\n",
    "    alt_edges = np.arange(alt_start, alt_stop, alt_step).tolist()\n",
    "    \n",
    "    bins_for_day = []\n",
    "    while len(alt_edges) >= 2:\n",
    "        lower, upper = alt_edges[0], alt_edges[1]\n",
    "        curr_bin = bins_for_alt(YYYYDDD, lat_start, lat_stop, lat_step, lon_start, lon_stop, lon_step, lower, upper)\n",
    "        bins_for_day.append(curr_bin)\n",
    "        \n",
    "        alt_edges = alt_edges[1:]\n",
    "    return np.array(bins_for_day)"
   ]
  },
  {
   "cell_type": "markdown",
   "metadata": {},
   "source": [
    "### Data Analysis Begins:"
   ]
  },
  {
   "cell_type": "markdown",
   "metadata": {},
   "source": [
    "### A running list of variables that have a long run-time\n",
    "\n",
    "- alt_31_2009015 = 2d temperature array computed using bins_for_alt for a 30 - 32 km altitude bin"
   ]
  },
  {
   "cell_type": "code",
   "execution_count": 138,
   "metadata": {},
   "outputs": [],
   "source": [
    "# alt_31_2009015 = bins_for_alt(2009015, -90, 90, 10, 0, 360, 20, 30, 32)\n",
    "alt_31_2009015 = np.array([[  0.        ,   0.        ,   0.        ,   0.        ,\n",
    "        239.16853333, 235.52354431, 232.05067444, 229.751297  ,\n",
    "        227.3818512 , 228.34042358, 229.09596252, 228.67631531,\n",
    "        224.09062195, 217.14595032, 210.91564941, 204.20387268,\n",
    "        203.82495117, 203.56759644],\n",
    "       [  0.        ,   0.        ,   0.        ,   0.        ,\n",
    "        238.83439636, 235.16062927, 231.46069336, 229.7297821 ,\n",
    "        229.447052  , 227.34025574, 227.45793152, 228.01696777,\n",
    "        221.09335327, 214.34384155, 208.287323  , 199.68188477,\n",
    "        200.85638428, 207.49320984],\n",
    "       [  0.        ,   0.        ,   0.        ,   0.        ,\n",
    "        238.55497742, 234.50099182, 231.00909424, 230.76390076,\n",
    "          0.        , 229.78689575, 229.62870789, 229.71279907,\n",
    "        224.67218018, 211.58003235, 204.26368713, 197.50567627,\n",
    "        202.06512451, 206.64797974],\n",
    "       [  0.        ,   0.        ,   0.        ,   0.        ,\n",
    "        238.7587738 , 234.14273071, 232.2381897 , 230.39364624,\n",
    "        229.59645081, 228.77481079, 228.90415955, 230.59432983,\n",
    "        225.93659973, 215.21627808, 203.52124023, 196.72369385,\n",
    "        204.05841064, 208.10716248],\n",
    "       [  0.        ,   0.        ,   0.        ,   0.        ,\n",
    "        238.5625    , 234.8248291 , 232.77859497, 230.61676025,\n",
    "        228.74263   , 229.4163208 , 232.04241943, 231.48471069,\n",
    "        228.86398315, 216.06285095, 203.20411682, 198.59934998,\n",
    "        205.94792175, 208.83744812],\n",
    "       [  0.        ,   0.        ,   0.        ,   0.        ,\n",
    "        237.75531006, 235.49171448, 231.99685669, 231.82679749,\n",
    "        229.21838379, 228.94670105, 229.18757629, 230.26687622,\n",
    "        230.71665955, 226.17640686, 218.7068634 , 212.98478699,\n",
    "        210.50032043, 207.55981445],\n",
    "       [  0.        ,   0.        ,   0.        ,   0.        ,\n",
    "        237.33943176, 234.19477844, 235.80944824, 230.32272339,\n",
    "        229.87687683, 229.96543884, 229.53720093, 231.66560364,\n",
    "        231.52645874, 235.23005676, 237.11207581, 228.82501221,\n",
    "        214.20953369, 204.5196991 ],\n",
    "       [  0.        ,   0.        ,   0.        ,   0.        ,\n",
    "        238.3276062 , 234.32862854, 232.32769775, 230.30915833,\n",
    "        229.75239563, 228.83395386, 230.02252197, 231.26765442,\n",
    "        233.31318665, 234.87052917, 235.39546204, 233.30044556,\n",
    "        210.90304565, 204.67472839],\n",
    "       [  0.        ,   0.        ,   0.        ,   0.        ,\n",
    "        238.30119324, 234.60350037, 231.41427612, 231.85353088,\n",
    "        230.19384766, 229.66430664, 226.04882812, 231.78623962,\n",
    "        232.26089478, 234.26657104, 232.76559448, 226.1574707 ,\n",
    "        214.5569458 , 210.50260925],\n",
    "       [  0.        ,   0.        ,   0.        ,   0.        ,\n",
    "        238.03804016, 236.02716064, 232.96090698, 231.48207092,\n",
    "        231.07182312, 230.26553345, 230.84603882, 231.93942261,\n",
    "        231.26954651, 232.39215088, 232.97257996, 223.71479797,\n",
    "        213.8952179 , 210.37957764],\n",
    "       [  0.        ,   0.        ,   0.        ,   0.        ,\n",
    "        238.82991028, 236.57629395, 233.08248901, 230.80813599,\n",
    "        229.61550903, 231.03388977, 230.88934326, 230.65490723,\n",
    "        231.74072266, 229.82756042, 226.54815674, 220.81694031,\n",
    "        213.30422974, 212.69944763],\n",
    "       [  0.        ,   0.        ,   0.        ,   0.        ,\n",
    "        238.86956787, 235.82411194, 233.01318359, 229.40922546,\n",
    "        228.14297485, 228.56343079, 229.04971313, 229.76351929,\n",
    "        226.52842712, 221.82684326, 217.03764343, 207.81358337,\n",
    "        210.55519104, 211.18391418],\n",
    "       [  0.        ,   0.        ,   0.        ,   0.        ,\n",
    "        239.53335571, 236.2277832 , 234.0501709 , 230.06036377,\n",
    "        228.25476074, 228.68293762, 230.09103394, 229.41346741,\n",
    "        226.28160095, 212.4309845 , 204.83889771, 206.49986267,\n",
    "        209.0508728 , 210.72886658],\n",
    "       [  0.        ,   0.        ,   0.        ,   0.        ,\n",
    "        239.60354614, 237.34121704, 232.70573425, 229.1953125 ,\n",
    "        228.45205688, 226.99058533, 226.92878723, 229.17172241,\n",
    "        227.5506897 , 220.66517639, 215.64851379, 211.8099823 ,\n",
    "        208.56364441, 210.19636536],\n",
    "       [  0.        ,   0.        ,   0.        ,   0.        ,\n",
    "        239.95605469, 236.53622437, 233.92903137, 229.39535522,\n",
    "        226.65756226,   0.        ,   0.        , 225.32192993,\n",
    "        229.50546265, 226.2636261 ,   0.        , 213.7334137 ,\n",
    "        210.00325012, 210.74031067],\n",
    "       [  0.        ,   0.        ,   0.        ,   0.        ,\n",
    "        239.23550415, 234.95051575, 232.25827026, 230.852005  ,\n",
    "        226.70031738, 228.12162781, 228.43682861, 229.57629395,\n",
    "        231.64370728, 233.33676147, 223.89872742, 214.15209961,\n",
    "        209.5227356 , 208.66706848],\n",
    "       [  0.        ,   0.        ,   0.        ,   0.        ,\n",
    "        239.15672302, 234.37504578, 231.87631226, 229.43240356,\n",
    "        227.54464722, 227.53056335, 228.86026001, 227.55432129,\n",
    "        232.12734985, 233.3866272 , 225.37695312, 212.00688171,\n",
    "        206.53688049, 208.76457214],\n",
    "       [  0.        ,   0.        ,   0.        ,   0.        ,\n",
    "        238.81636047, 234.66572571, 232.57479858, 230.22671509,\n",
    "        226.68659973, 225.58760071, 229.55531311, 228.35722351,\n",
    "        231.60964966, 230.09860229, 223.97993469, 210.64790344,\n",
    "        205.13389587, 205.09370422]])"
   ]
  },
  {
   "cell_type": "markdown",
   "metadata": {},
   "source": [
    "### Plot temperature data from 30 to 90 km for any event, or observational point\n",
    "\n",
    "ATTR_CUT = 2d - sections events and altitudes\n",
    "\n",
    "ATTR_EVENT_CUT = 1d - chooses a single event, sections altitudes\n",
    "\n",
    "ATTR_EVENT_ALT_CUT = 1d - chooses a single event, narrows altitude to a 2 km window"
   ]
  },
  {
   "cell_type": "code",
   "execution_count": 150,
   "metadata": {},
   "outputs": [],
   "source": [
    "def attr_cut(attr, first_e, last_e, lower=30, upper=100):\n",
    "    \"\"\"Cut ATTR array's third (narrowing events) and second dimensions (narrowing altitude range).\n",
    "    LAST_E is exclusive to mimic conventional array slicing.\"\"\"\n",
    "    event_size = len(attr_event_cut(attr, first_e))\n",
    "    arr_so_far = np.empty((0, event_size))\n",
    "    \n",
    "    for event in range(first_e, last_e):\n",
    "        new_event = attr_event_cut(attr, event, lower, upper)\n",
    "        arr_so_far = np.append(arr_so_far, new_event[newaxis], axis=0)\n",
    "    return arr_so_far\n",
    "\n",
    "def attr_event_cut(attr, event, lower=30, upper=100):\n",
    "    \"\"\"Return a 1d array of ATTR values at one EVENT, cut at a LOWER and UPPER altitude.\"\"\"\n",
    "    event_attr = attr[event]\n",
    "    return event_attr[alt_i(event, upper): alt_i(event, lower)]\n",
    "\n",
    "def alt_event_cut(event, lower=30, upper=100):\n",
    "    \"\"\"Return a 1d array of altitudes (in km) at an observation, EVENT, cut at a LOWER and UPPER altitude.\"\"\"\n",
    "    return attr_event_cut(alt, event, lower, upper) \n",
    "\n",
    "def temp_event_cut(event, lower=30, upper=100):\n",
    "    \"\"\"Return a 1d array of temperatures (in K) at an observation, EVENT, cut at a LOWER and UPPER altitude.\"\"\"\n",
    "    return attr_event_cut(temp, event, lower, upper) "
   ]
  },
  {
   "cell_type": "code",
   "execution_count": 151,
   "metadata": {},
   "outputs": [
    {
     "data": {
      "image/png": "[encoded data removed]",
      "text/plain": [
       "<Figure size 432x288 with 1 Axes>"
      ]
     },
     "metadata": {
      "needs_background": "light"
     },
     "output_type": "display_data"
    }
   ],
   "source": [
    "x = temp_event_cut(1000)\n",
    "y = alt_event_cut(1000)\n",
    "\n",
    "plt.plot(x, y)\n",
    "plt.xlabel('Temperature (K)')\n",
    "plt.ylabel('Altitude (km)')\n",
    "plt.title('Temperatures Recorded on 1000th Event / Observation Cycle')\n",
    "plt.show()"
   ]
  },
  {
   "cell_type": "code",
   "execution_count": 146,
   "metadata": {},
   "outputs": [],
   "source": [
    "def plot_ctemp(lat_list, lon_list, temp_list):\n",
    "    \"\"\"Display a latitude vs. longitude temperature contour plot.\"\"\"\n",
    "    \n",
    "    fig = plt.figure(figsize=(8, 4))\n",
    "    left, bottom, width, height = 0, 1, 1, 1\n",
    "    ax = fig.add_axes([left, bottom, width, height]) \n",
    "\n",
    "    x = lat_list\n",
    "    y = lon_list\n",
    "    X, Y = np.meshgrid(x, y)\n",
    "    # len(X) == num of columns in Z, len(Y) == num of rows in Z \n",
    "    # aka, len(Y) == num of arrays within Z, a 2d array\n",
    "    Z = temp_list\n",
    "\n",
    "    cp = plt.contourf(X, Y, Z, cmap='coolwarm')\n",
    "    plt.colorbar(cp).set_label('Temperature ( $K$ )', rotation=270, labelpad=15)\n",
    "\n",
    "    \n",
    "    ax.set_title('Temperature in Arctic 2009/15 31 km Altitude', size=14)\n",
    "    ax.set_xlabel('Latitude ( $km$ )')\n",
    "    ax.set_ylabel('Longitude( $km$ )')\n",
    "\n",
    "    plt.show()"
   ]
  },
  {
   "cell_type": "markdown",
   "metadata": {},
   "source": [
    "#### Contour Plot for 31 km"
   ]
  },
  {
   "cell_type": "code",
   "execution_count": 147,
   "metadata": {
    "scrolled": true
   },
   "outputs": [
    {
     "data": {
      "image/png": "[encoded data removed]",
      "text/plain": [
       "<Figure size 576x288 with 2 Axes>"
      ]
     },
     "metadata": {
      "needs_background": "light"
     },
     "output_type": "display_data"
    }
   ],
   "source": [
    "lat_2009015 = np.arange(-85, 95, 10) #len = 18\n",
    "lon_2009015 = np.arange(10, 370, 20) #len = 18\n",
    "temp_2009015 = alt_31_2009015 #len = 18 #len [i] = 18\n",
    "\n",
    "plot_ctemp(lat_2009015, lon_2009015, temp_2009015)"
   ]
  }
 ],
 "metadata": {
  "kernelspec": {
   "display_name": "Python 3",
   "language": "python",
   "name": "python3"
  },
  "language_info": {
   "codemirror_mode": {
    "name": "ipython",
    "version": 3
   },
   "file_extension": ".py",
   "mimetype": "text/x-python",
   "name": "python",
   "nbconvert_exporter": "python",
   "pygments_lexer": "ipython3",
   "version": "3.7.6"
  }
 },
 "nbformat": 4,
 "nbformat_minor": 4
}
