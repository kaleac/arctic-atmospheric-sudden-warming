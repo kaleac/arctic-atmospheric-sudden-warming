{
 "cells": [
  {
   "cell_type": "code",
   "execution_count": 80,
   "metadata": {
    "collapsed": false
   },
   "outputs": [],
   "source": [
    "import netCDF4\n",
    "from netCDF4 import Dataset\n",
    "\n",
    "import csv\n",
    "import pandas as pd\n",
    "\n",
    "import numpy as np\n",
    "from numpy import newaxis\n",
    "# from numpy.polynomial.polynomial import polyfit\n",
    "import matplotlib.pyplot as plt\n",
    "# from matplotlib.lines import Line2D\n",
    "\n",
    "import math\n",
    "\n",
    "import warnings\n",
    "\n",
    "%matplotlib inline\n"
   ]
  },
  {
   "cell_type": "code",
   "execution_count": 81,
   "metadata": {
    "collapsed": true
   },
   "outputs": [],
   "source": [
    "def ncdump(nc_fid, verb=True):\n",
    "    \n",
    "    def print_ncattr(key):\n",
    "  \n",
    "        try:\n",
    "            print((\"\\t\\ttype:\", repr(nc_fid.variables[key].dtype)))\n",
    "            for ncattr in nc_fid.variables[key].ncattrs():\n",
    "                print(('\\t\\t%s:' % ncattr,\\\n",
    "                      repr(nc_fid.variables[key].getncattr(ncattr))))\n",
    "        except KeyError:\n",
    "            print((\"\\t\\tWARNING: %s does not contain variable attributes\" % key))\n",
    "\n",
    "    # NetCDF global attributes\n",
    "    nc_attrs = nc_fid.ncattrs()\n",
    "    if verb:\n",
    "        print(\"NetCDF Global Attributes:\")\n",
    "        for nc_attr in nc_attrs:\n",
    "            print('\\t%s:' % nc_attr, repr(nc_fid.getncattr(nc_attr)))\n",
    "    nc_dims = [dim for dim in nc_fid.dimensions]  # list of nc dimensions\n",
    "    # Dimension shape information.\n",
    "    if verb:\n",
    "        print(\"NetCDF dimension information:\")\n",
    "        for dim in nc_dims:\n",
    "            print(\"\\tName:\", dim) \n",
    "            print(\"\\t\\tsize:\", len(nc_fid.dimensions[dim]))\n",
    "            print_ncattr(dim)\n",
    "    # Variable information.\n",
    "    nc_vars = [var for var in nc_fid.variables]  # list of nc variables\n",
    "    if verb:\n",
    "        print(\"NetCDF variable information:\")\n",
    "        for var in nc_vars:\n",
    "            if var not in nc_dims:\n",
    "                print('\\tName:', var)\n",
    "                print(\"\\t\\tdimensions:\", nc_fid.variables[var].dimensions)\n",
    "                print(\"\\t\\tsize:\", nc_fid.variables[var].size)\n",
    "                print_ncattr(var)\n",
    "    return nc_attrs, nc_dims, nc_vars"
   ]
  },
  {
   "cell_type": "code",
   "execution_count": 82,
   "metadata": {
    "collapsed": false
   },
   "outputs": [],
   "source": [
    "nc_f = 'SABER_2009-01.nc'\n",
    "ds = Dataset(nc_f, mode='r')\n",
    "\n",
    "lat = ds.variables['tplatitude'][:] # dimensions: ('event', 'altitude')\n",
    "#og_lat = ds.variables['tplatitude'][:] # dimensions: ('event', 'altitude')\n",
    "lon = ds.variables['tplongitude'][:] # dimensions: ('event', 'altitude')\n",
    "temp = ds.variables['ktemp'][:] # dimensions: ('event', 'altitude') # in K\n",
    "alt = ds.variables['tpaltitude'][:] # dimensions: ('event', 'altitude')\n",
    "date = ds.variables['date'][:] # dimensions: ('event',) # yyyyddd\n",
    "\n",
    "ds.close()"
   ]
  },
  {
   "cell_type": "code",
   "execution_count": 188,
   "metadata": {
    "collapsed": false
   },
   "outputs": [],
   "source": [
    "def get_gridded_data(dx, dy, dz):\n",
    "    \n",
    "    #Make Grids\n",
    "    #Longitude (every dx degree), Latitude (every dy degree), Altitude (every dz km)\n",
    "    newlon = np.arange(dx/2,360,dx)\n",
    "    newlat = np.arange(-90+dy/2,90,dy)\n",
    "    newalt = np.arange(30,100,dz)\n",
    "\n",
    "    nx=newlon.size\n",
    "    ny=newlat.size\n",
    "    nz=newalt.size\n",
    "\n",
    "    #Make Empty Grid box\n",
    "    tempgrid=np.zeros((nx,ny,nz))\n",
    "    \n",
    "    return newlon, newlat, newalt, tempgrid,nx,ny,nz\n",
    "\n",
    "def get_dailysaber_data(targd):\n",
    "\n",
    "    #SABER lon and lat for each profile\n",
    "    saberlonall = lon[:,200]\n",
    "    saberlatall = lat[:,200]\n",
    "\n",
    "    # Find date\n",
    "    dbin = np.where(date == targd)[0]\n",
    "        \n",
    "    # lond, latd, tempd, altd = data for each day\n",
    "    lond = saberlon[dbin]\n",
    "    latd = saberlat[dbin]\n",
    "    tempd = temp[dbin,:]\n",
    "    altd = alt[dbin,:]\n",
    "\n",
    "    nprofday = lond.size\n",
    "    print(nprofday)\n",
    "    return lond, latd, tempd, altd, nprofday\n",
    "\n"
   ]
  },
  {
   "cell_type": "code",
   "execution_count": 191,
   "metadata": {
    "collapsed": false
   },
   "outputs": [
    {
     "name": "stdout",
     "output_type": "stream",
     "text": [
      "1432\n"
     ]
    }
   ],
   "source": [
    "#Get New Grid\n",
    "dx = 24\n",
    "dy = 10\n",
    "dz = 2 \n",
    "newlon, newlat, newalt, tempgrid, nx, ny, nz = get_gridded_data(dx, dy, dz)\n",
    "\n",
    "#Get SABER Data\n",
    "dateuse = 2009015\n",
    "lond, latd, tempd, altd, nprofday= get_dailysaber_data(dateuse)\n",
    "\n",
    "for i in range(nx):\n",
    "    lonbin = np.where((lond > newlon[i]-dx/2.) & (lond < newlon[i]+dx/2.))[0]\n",
    "    nlonb =lonbin.size\n",
    "        \n",
    "    if nlonb > 0:\n",
    "        lat1 = latd[lonbin]\n",
    "        lon1 = lond[lonbin]\n",
    "        temp1 = tempd[lonbin,:]\n",
    "        alt1 = altd[lonbin,:]\n",
    "\n",
    "        for j in range(ny):\n",
    "            latbin = np.where((lat1 > newlat[j]-dy/2.) & (lat1 < newlat[j]+dy/2.))[0]\n",
    "            nla =latbin.size\n",
    "\n",
    "            if nla > 0:\n",
    "                lat2 = lat1[latbin]\n",
    "                lon2 = lon1[latbin]\n",
    "                temp2 = temp1[latbin,:]\n",
    "                alt2 = alt1[latbin,:]\n",
    "\n"
   ]
  },
  {
   "cell_type": "code",
   "execution_count": 187,
   "metadata": {
    "collapsed": false
   },
   "outputs": [
    {
     "ename": "SyntaxError",
     "evalue": "invalid syntax (<ipython-input-187-e83d7ea6fc60>, line 17)",
     "output_type": "error",
     "traceback": [
      "\u001b[0;36m  File \u001b[0;32m\"<ipython-input-187-e83d7ea6fc60>\"\u001b[0;36m, line \u001b[0;32m17\u001b[0m\n\u001b[0;31m    tempu = tempd(pr,:)\u001b[0m\n\u001b[0m                     ^\u001b[0m\n\u001b[0;31mSyntaxError\u001b[0m\u001b[0;31m:\u001b[0m invalid syntax\n"
     ]
    }
   ],
   "source": [
    "#Get New Grid\n",
    "dx = 24\n",
    "dy = 10\n",
    "dz = 2 \n",
    "newlon, newlat, newalt, tempgrid, nx, ny, nz = get_gridded_data(dx, dy, dz)\n",
    "\n",
    "print(ny)\n",
    "#Get SABER Data\n",
    "dateuse = 2009015\n",
    "lond, latd, tempd, altd, nprofday= get_dailysaber_data(dateuse)\n",
    "\n",
    "#def get_gridded_altitude(tempd,altd, newalt,dz):\n",
    "\n",
    "nprof=lond.size\n",
    "    \n",
    "for pr in range(nprof):\n",
    "    tempu = tempd(pr,:)\n",
    "    altu = altd(pr,:)\n",
    "    for k in range(nz):\n",
    "        altbin = np.where((altu > newalt[k]-dz/2.) & (altu < newalt[k]+dz/2.))[0]\n",
    "        tempz[pr,k]=np.mean(tempu[altbin])\n",
    "\n",
    "#    return tempz"
   ]
  },
  {
   "cell_type": "code",
   "execution_count": 186,
   "metadata": {
    "collapsed": false
   },
   "outputs": [
    {
     "name": "stdout",
     "output_type": "stream",
     "text": [
      "1432\n"
     ]
    }
   ],
   "source": [
    "print(nprofday)"
   ]
  },
  {
   "cell_type": "code",
   "execution_count": null,
   "metadata": {
    "collapsed": true
   },
   "outputs": [],
   "source": []
  }
 ],
 "metadata": {
  "anaconda-cloud": {},
  "kernelspec": {
   "display_name": "Python [Root]",
   "language": "python",
   "name": "Python [Root]"
  },
  "language_info": {
   "codemirror_mode": {
    "name": "ipython",
    "version": 3
   },
   "file_extension": ".py",
   "mimetype": "text/x-python",
   "name": "python",
   "nbconvert_exporter": "python",
   "pygments_lexer": "ipython3",
   "version": "3.5.2"
  }
 },
 "nbformat": 4,
 "nbformat_minor": 0
}
